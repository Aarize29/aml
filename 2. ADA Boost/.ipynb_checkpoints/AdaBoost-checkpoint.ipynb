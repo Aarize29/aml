{
 "cells": [
  {
   "cell_type": "code",
   "execution_count": 1,
   "id": "1eb17e8d",
   "metadata": {
    "ExecuteTime": {
     "end_time": "2024-02-04T19:15:48.393875100Z",
     "start_time": "2024-02-04T19:15:42.472247Z"
    }
   },
   "outputs": [],
   "source": [
    "# Import your libraries and data \n",
    "import pandas as pd \n",
    "from sklearn.model_selection import train_test_split \n",
    "from sklearn.ensemble import AdaBoostClassifier \n",
    "from sklearn.metrics import accuracy_score"
   ]
  },
  {
   "cell_type": "code",
   "execution_count": 2,
   "id": "ac931d6c",
   "metadata": {
    "ExecuteTime": {
     "end_time": "2024-02-04T19:15:53.286874900Z",
     "start_time": "2024-02-04T19:15:53.129344Z"
    }
   },
   "outputs": [
    {
     "data": {
      "text/html": [
       "<div>\n",
       "<style scoped>\n",
       "    .dataframe tbody tr th:only-of-type {\n",
       "        vertical-align: middle;\n",
       "    }\n",
       "\n",
       "    .dataframe tbody tr th {\n",
       "        vertical-align: top;\n",
       "    }\n",
       "\n",
       "    .dataframe thead th {\n",
       "        text-align: right;\n",
       "    }\n",
       "</style>\n",
       "<table border=\"1\" class=\"dataframe\">\n",
       "  <thead>\n",
       "    <tr style=\"text-align: right;\">\n",
       "      <th></th>\n",
       "      <th>y</th>\n",
       "      <th>age</th>\n",
       "      <th>marital</th>\n",
       "      <th>ever_defaulted</th>\n",
       "      <th>housing_loan</th>\n",
       "      <th>Personal_loan</th>\n",
       "    </tr>\n",
       "  </thead>\n",
       "  <tbody>\n",
       "    <tr>\n",
       "      <th>0</th>\n",
       "      <td>0</td>\n",
       "      <td>56</td>\n",
       "      <td>1</td>\n",
       "      <td>0</td>\n",
       "      <td>0</td>\n",
       "      <td>0</td>\n",
       "    </tr>\n",
       "    <tr>\n",
       "      <th>1</th>\n",
       "      <td>0</td>\n",
       "      <td>37</td>\n",
       "      <td>1</td>\n",
       "      <td>0</td>\n",
       "      <td>1</td>\n",
       "      <td>0</td>\n",
       "    </tr>\n",
       "    <tr>\n",
       "      <th>2</th>\n",
       "      <td>0</td>\n",
       "      <td>40</td>\n",
       "      <td>1</td>\n",
       "      <td>0</td>\n",
       "      <td>0</td>\n",
       "      <td>0</td>\n",
       "    </tr>\n",
       "    <tr>\n",
       "      <th>3</th>\n",
       "      <td>0</td>\n",
       "      <td>56</td>\n",
       "      <td>1</td>\n",
       "      <td>0</td>\n",
       "      <td>0</td>\n",
       "      <td>1</td>\n",
       "    </tr>\n",
       "    <tr>\n",
       "      <th>4</th>\n",
       "      <td>0</td>\n",
       "      <td>59</td>\n",
       "      <td>1</td>\n",
       "      <td>0</td>\n",
       "      <td>0</td>\n",
       "      <td>0</td>\n",
       "    </tr>\n",
       "  </tbody>\n",
       "</table>\n",
       "</div>"
      ],
      "text/plain": [
       "   y  age  marital  ever_defaulted  housing_loan  Personal_loan\n",
       "0  0   56        1               0             0              0\n",
       "1  0   37        1               0             1              0\n",
       "2  0   40        1               0             0              0\n",
       "3  0   56        1               0             0              1\n",
       "4  0   59        1               0             0              0"
      ]
     },
     "execution_count": 2,
     "metadata": {},
     "output_type": "execute_result"
    }
   ],
   "source": [
    "data = pd.read_csv('bank_marketing.csv')\n",
    "data.head()"
   ]
  },
  {
   "cell_type": "code",
   "execution_count": 3,
   "id": "babd1840",
   "metadata": {
    "ExecuteTime": {
     "end_time": "2024-02-04T19:15:58.720847200Z",
     "start_time": "2024-02-04T19:15:58.680563700Z"
    }
   },
   "outputs": [],
   "source": [
    "# Choose the dependent and Independent variables \n",
    "X = data[['age','marital','ever_defaulted','housing_loan','Personal_loan']] \n",
    "Y = data[['y']]"
   ]
  },
  {
   "cell_type": "code",
   "execution_count": 4,
   "id": "9cef400e",
   "metadata": {
    "ExecuteTime": {
     "end_time": "2024-02-04T19:16:00.478084500Z",
     "start_time": "2024-02-04T19:16:00.422163900Z"
    }
   },
   "outputs": [],
   "source": [
    "# Train, test/validation split \n",
    "X_train, X_test, y_train, y_test = train_test_split(X,Y, test_size = 0.20, random_state = 42) \n",
    "test_df = pd.concat ([X_test,y_test],axis =1 )"
   ]
  },
  {
   "cell_type": "code",
   "execution_count": 5,
   "id": "932b5cf8",
   "metadata": {
    "ExecuteTime": {
     "end_time": "2024-02-04T19:16:04.147241600Z",
     "start_time": "2024-02-04T19:16:04.058562400Z"
    }
   },
   "outputs": [],
   "source": [
    "test_df.to_csv('classification_results.csv')"
   ]
  },
  {
   "cell_type": "code",
   "execution_count": 6,
   "id": "4a3d2c02",
   "metadata": {
    "ExecuteTime": {
     "end_time": "2024-02-04T19:16:06.418385100Z",
     "start_time": "2024-02-04T19:16:05.082973200Z"
    }
   },
   "outputs": [
    {
     "name": "stderr",
     "output_type": "stream",
     "text": [
      "C:\\Users\\bhuva\\anaconda3\\Lib\\site-packages\\sklearn\\utils\\validation.py:1184: DataConversionWarning: A column-vector y was passed when a 1d array was expected. Please change the shape of y to (n_samples, ), for example using ravel().\n",
      "  y = column_or_1d(y, warn=True)\n"
     ]
    }
   ],
   "source": [
    "# Initialize and train your model \n",
    "abc = AdaBoostClassifier(random_state=0) \n",
    "abc_model = abc.fit(X_train, y_train) "
   ]
  },
  {
   "cell_type": "code",
   "execution_count": 7,
   "id": "a73d1e5e",
   "metadata": {
    "ExecuteTime": {
     "end_time": "2024-02-04T19:16:09.732449400Z",
     "start_time": "2024-02-04T19:16:09.595683200Z"
    }
   },
   "outputs": [
    {
     "data": {
      "text/plain": [
       "0.8721662468513854"
      ]
     },
     "execution_count": 7,
     "metadata": {},
     "output_type": "execute_result"
    }
   ],
   "source": [
    "# Predict the test data based on the trained model \n",
    "abc_pred = abc_model.predict(X_test) \n",
    "accuracy_score(y_test, abc_pred)"
   ]
  },
  {
   "cell_type": "code",
   "execution_count": null,
   "id": "49b049376a9621e5",
   "metadata": {},
   "outputs": [],
   "source": []
  }
 ],
 "metadata": {
  "kernelspec": {
   "display_name": "Python 3 (ipykernel)",
   "language": "python",
   "name": "python3"
  },
  "language_info": {
   "codemirror_mode": {
    "name": "ipython",
    "version": 3
   },
   "file_extension": ".py",
   "mimetype": "text/x-python",
   "name": "python",
   "nbconvert_exporter": "python",
   "pygments_lexer": "ipython3",
   "version": "3.11.5"
  }
 },
 "nbformat": 4,
 "nbformat_minor": 5
}
